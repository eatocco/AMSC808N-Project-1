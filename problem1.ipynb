{
 "cells": [
  {
   "cell_type": "code",
   "execution_count": 11,
   "metadata": {},
   "outputs": [],
   "source": [
    "import numpy as np\n",
    "import torch\n",
    "import matplotlib.pyplot as plt\n",
    "\n",
    "from sklearn.decomposition import PCA\n",
    "from keras.datasets import mnist\n",
    "\n",
    "from optimizers import GradientDescent, Nesterov, Adam,LBFGS\n"
   ]
  },
  {
   "cell_type": "code",
   "execution_count": 12,
   "metadata": {},
   "outputs": [],
   "source": [
    "(X_train, y_train), (X_test, y_test) = mnist.load_data()\n",
    "X_train = X_train[(y_train == 1) | (y_train == 7)].reshape(\n",
    "    (-1, np.prod(X_train.shape[1:]))) / 255.\n",
    "y_train = 2 * (y_train[(y_train == 1) | (y_train == 7)] == 1) - 1\n",
    "X_test = X_test[(y_test == 1) | (y_test == 7)].reshape(\n",
    "    (-1, np.prod(X_test.shape[1:]))) / 255.\n",
    "y_test = 2 * (y_test[(y_test == 1) | (y_test == 7)] == 1) - 1"
   ]
  },
  {
   "cell_type": "code",
   "execution_count": 13,
   "metadata": {},
   "outputs": [],
   "source": [
    "pca_20 = PCA(n_components=20)\n",
    "X_train_20 = pca_20.fit_transform(X_train)\n",
    "X_test_20 = pca_20.transform(X_test)"
   ]
  },
  {
   "cell_type": "code",
   "execution_count": 14,
   "metadata": {},
   "outputs": [
    {
     "name": "stdout",
     "output_type": "stream",
     "text": [
      "torch.Size([13007, 421]) torch.Size([2163, 421])\n"
     ]
    }
   ],
   "source": [
    "def get_quadratic(X_data, y_data):\n",
    "    \n",
    "    quad_term = (X_data[:, :, np.newaxis] *\n",
    "                 X_data[:, np.newaxis, :]).reshape((len(X_data), -1))\n",
    "    quadratic = y_data[:, np.newaxis] * \\\n",
    "        np.hstack((quad_term, X_data, np.ones((len(X_data), 1))))\n",
    "    return quadratic.astype(np.float64)\n",
    "\n",
    "\n",
    "quad_train = torch.tensor(get_quadratic(X_train_20, y_train))\n",
    "quad_test = torch.tensor(get_quadratic(X_test_20, y_test))\n",
    "\n",
    "print(quad_train.size(), quad_test.size())\n"
   ]
  },
  {
   "cell_type": "code",
   "execution_count": 15,
   "metadata": {},
   "outputs": [],
   "source": [
    "# loss function over entire training set\n",
    "def loss_function(w, train_data, lam=1e-3):\n",
    "   # print(w.double().size())\n",
    "    \n",
    "    B = torch.matmul(-train_data, w).double()\n",
    "    return torch.sum(torch.log(1 + torch.exp(B.double()))) / len(train_data) + lam / 2 * torch.sum(w ** 2)\n",
    "\n",
    "# gradient function allows for different batches\n",
    "\n",
    "\n",
    "def loss_gradient(w, data_batch, lam=1e-3):\n",
    "    exp_quad = torch.exp(torch.matmul(-data_batch.double(),w.double()))\n",
    "    coef = exp_quad / (1 + exp_quad)\n",
    "    return torch.sum(-data_batch * coef[:, np.newaxis], axis=0) / len(data_batch) + lam * w\n"
   ]
  },
  {
   "cell_type": "code",
   "execution_count": 16,
   "metadata": {},
   "outputs": [],
   "source": [
    "def eval_test_func(w, train_data, test_data):\n",
    "\n",
    "   \n",
    "    eval_train = (torch.matmul(train_data,w) > 0)\n",
    "    eval_test = (torch.matmul(test_data, w) > 0)\n",
    "    \n",
    "    correct_train = int(sum(eval_train))\n",
    "    correct_test = int(sum(eval_test))\n",
    "    acc_train = correct_train / len(eval_train)\n",
    "    acc_test = correct_test / len(eval_test)\n",
    "    print(f'train correct: {correct_train}, train accuracy: {acc_train}')\n",
    "    print(f'test correct: {correct_test}, test accuracy: {acc_test}')\n",
    "\n",
    "\n",
    "def visualize_histories(loss_hist, grad_norms):\n",
    "    fig, axs = plt.subplots(1, 2, figsize=(10, 5))\n",
    "    axs[0].title.set_text('Objective loss vs. epoch')\n",
    "    axs[0].plot(loss_hist)\n",
    "    axs[1].title.set_text('Gradient norm vs. iteration')\n",
    "    axs[1].plot(grad_norms)\n",
    "    plt.show()\n"
   ]
  },
  {
   "cell_type": "code",
   "execution_count": 19,
   "metadata": {},
   "outputs": [
    {
     "name": "stdout",
     "output_type": "stream",
     "text": [
      "Iter  2 : loss =  tensor(0.6931)  gradnorm =  tensor(3.3925, dtype=torch.float64)\n",
      "Iter  3 : loss =  tensor(0.3765)  gradnorm =  tensor(1.5423, dtype=torch.float64)\n",
      "Iter  4 : loss =  tensor(0.1602)  gradnorm =  tensor(0.9572, dtype=torch.float64)\n",
      "Iter  5 : loss =  tensor(0.0408)  gradnorm =  tensor(0.3081, dtype=torch.float64)\n",
      "Iter  6 : loss =  tensor(0.0255)  gradnorm =  tensor(0.1786, dtype=torch.float64)\n",
      "Iter  7 : loss =  tensor(0.0547)  gradnorm =  tensor(0.4568, dtype=torch.float64)\n",
      "Iter  8 : loss =  tensor(0.0567)  gradnorm =  tensor(0.5651, dtype=torch.float64)\n",
      "Iter  9 : loss =  tensor(0.0138)  gradnorm =  tensor(0.1139, dtype=torch.float64)\n",
      "Iter  10 : loss =  tensor(0.0545)  gradnorm =  tensor(0.3129, dtype=torch.float64)\n",
      "Iter  11 : loss =  tensor(0.1191)  gradnorm =  tensor(0.4012, dtype=torch.float64)\n",
      "Iter  12 : loss =  tensor(0.0130)  gradnorm =  tensor(0.1576, dtype=torch.float64)\n",
      "Iter  13 : loss =  tensor(0.1317)  gradnorm =  tensor(0.5128, dtype=torch.float64)\n",
      "Iter  14 : loss =  tensor(0.0144)  gradnorm =  tensor(0.1064, dtype=torch.float64)\n",
      "Iter  15 : loss =  tensor(0.0383)  gradnorm =  tensor(0.3098, dtype=torch.float64)\n",
      "Iter  16 : loss =  tensor(0.0226)  gradnorm =  tensor(0.1667, dtype=torch.float64)\n",
      "Iter  17 : loss =  tensor(0.0042)  gradnorm =  tensor(0.0181, dtype=torch.float64)\n",
      "train correct: 12848, train accuracy: 0.9877758130237564\n",
      "test correct: 2142, test accuracy: 0.9902912621359223\n"
     ]
    }
   ],
   "source": [
    "W = torch.rand(np.shape(quad_train)[1],dtype=torch.float64)\n",
    "\n",
    "\n",
    "nest = LBFGS(loss_function, loss_gradient, W,maxit=5000,params=None, data=quad_train, batchsize=32, stochastic=True,m=20,tol=2e-2)\n",
    "w_nest,it,lossvals,gradnormvals = nest.minimize()\n",
    "eval_test_func(w_nest, quad_train, quad_test)\n"
   ]
  },
  {
   "cell_type": "code",
   "execution_count": 18,
   "metadata": {},
   "outputs": [
    {
     "data": {
      "image/png": "[encoded data removed]",
      "text/plain": [
       "<Figure size 432x288 with 1 Axes>"
      ]
     },
     "metadata": {
      "needs_background": "light"
     },
     "output_type": "display_data"
    },
    {
     "data": {
      "image/png": "[encoded data removed]",
      "text/plain": [
       "<Figure size 432x288 with 1 Axes>"
      ]
     },
     "metadata": {
      "needs_background": "light"
     },
     "output_type": "display_data"
    }
   ],
   "source": [
    "plt.figure()\n",
    "plt.plot(lossvals)\n",
    "plt.show()\n",
    "plt.figure()\n",
    "plt.plot(gradnormvals)\n",
    "plt.show()"
   ]
  }
 ],
 "metadata": {
  "kernelspec": {
   "display_name": "Python 3.10.5 64-bit",
   "language": "python",
   "name": "python3"
  },
  "language_info": {
   "codemirror_mode": {
    "name": "ipython",
    "version": 3
   },
   "file_extension": ".py",
   "mimetype": "text/x-python",
   "name": "python",
   "nbconvert_exporter": "python",
   "pygments_lexer": "ipython3",
   "version": "3.10.5"
  },
  "orig_nbformat": 4,
  "vscode": {
   "interpreter": {
    "hash": "369f2c481f4da34e4445cda3fffd2e751bd1c4d706f27375911949ba6bb62e1c"
   }
  }
 },
 "nbformat": 4,
 "nbformat_minor": 2
}
